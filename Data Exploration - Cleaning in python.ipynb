{
 "cells": [
  {
   "cell_type": "code",
   "execution_count": 9,
   "id": "27543e9b",
   "metadata": {},
   "outputs": [],
   "source": [
    "# Import required libraries\n",
    "import pandas as pd\n",
    "import numpy as np\n",
    "import matplotlib.pyplot as plt\n",
    "import seaborn as sns"
   ]
  },
  {
   "cell_type": "code",
   "execution_count": 3,
   "id": "a4cb205d",
   "metadata": {},
   "outputs": [],
   "source": [
    "# Load csv file into dataframe\n",
    "df1 = pd.read_csv('leads_basic_details.csv')\n",
    "df2 = pd.read_csv('sales_managers_assigned_leads_details.csv')\n",
    "df3 = pd.read_csv('leads_interaction_details.csv')\n",
    "df4 = pd.read_csv('leads_demo_watched_details.csv')\n",
    "df5 = pd.read_csv('leads_reasons_for_no_interest.csv')"
   ]
  },
  {
   "cell_type": "markdown",
   "id": "a018f9ff",
   "metadata": {},
   "source": [
    "## leads_basic_details "
   ]
  },
  {
   "cell_type": "code",
   "execution_count": 4,
   "id": "c53c3010",
   "metadata": {
    "scrolled": true
   },
   "outputs": [
    {
     "data": {
      "text/html": [
       "<div>\n",
       "<style scoped>\n",
       "    .dataframe tbody tr th:only-of-type {\n",
       "        vertical-align: middle;\n",
       "    }\n",
       "\n",
       "    .dataframe tbody tr th {\n",
       "        vertical-align: top;\n",
       "    }\n",
       "\n",
       "    .dataframe thead th {\n",
       "        text-align: right;\n",
       "    }\n",
       "</style>\n",
       "<table border=\"1\" class=\"dataframe\">\n",
       "  <thead>\n",
       "    <tr style=\"text-align: right;\">\n",
       "      <th></th>\n",
       "      <th>lead_id</th>\n",
       "      <th>age</th>\n",
       "      <th>gender</th>\n",
       "      <th>current_city</th>\n",
       "      <th>current_education</th>\n",
       "      <th>parent_occupation</th>\n",
       "      <th>lead_gen_source</th>\n",
       "    </tr>\n",
       "  </thead>\n",
       "  <tbody>\n",
       "    <tr>\n",
       "      <th>0</th>\n",
       "      <td>USR1001</td>\n",
       "      <td>16</td>\n",
       "      <td>FEMALE</td>\n",
       "      <td>Hyderabad</td>\n",
       "      <td>Intermediate</td>\n",
       "      <td>Private Employee</td>\n",
       "      <td>social_media</td>\n",
       "    </tr>\n",
       "    <tr>\n",
       "      <th>1</th>\n",
       "      <td>USR1002</td>\n",
       "      <td>20</td>\n",
       "      <td>MALE</td>\n",
       "      <td>Bengaluru</td>\n",
       "      <td>B.Tech</td>\n",
       "      <td>Business</td>\n",
       "      <td>user_referrals</td>\n",
       "    </tr>\n",
       "    <tr>\n",
       "      <th>2</th>\n",
       "      <td>USR1003</td>\n",
       "      <td>20</td>\n",
       "      <td>FEMALE</td>\n",
       "      <td>Visakhapatnam</td>\n",
       "      <td>B.Tech</td>\n",
       "      <td>Lawyer</td>\n",
       "      <td>user_referrals</td>\n",
       "    </tr>\n",
       "    <tr>\n",
       "      <th>3</th>\n",
       "      <td>USR1004</td>\n",
       "      <td>16</td>\n",
       "      <td>MALE</td>\n",
       "      <td>Mumbai</td>\n",
       "      <td>Intermediate</td>\n",
       "      <td>IT Employee</td>\n",
       "      <td>user_referrals</td>\n",
       "    </tr>\n",
       "    <tr>\n",
       "      <th>4</th>\n",
       "      <td>USR1005</td>\n",
       "      <td>16</td>\n",
       "      <td>MALE</td>\n",
       "      <td>Chennai</td>\n",
       "      <td>Intermediate</td>\n",
       "      <td>Government Employee</td>\n",
       "      <td>user_referrals</td>\n",
       "    </tr>\n",
       "  </tbody>\n",
       "</table>\n",
       "</div>"
      ],
      "text/plain": [
       "   lead_id  age  gender   current_city current_education    parent_occupation  \\\n",
       "0  USR1001   16  FEMALE      Hyderabad      Intermediate     Private Employee   \n",
       "1  USR1002   20    MALE      Bengaluru            B.Tech             Business   \n",
       "2  USR1003   20  FEMALE  Visakhapatnam            B.Tech               Lawyer   \n",
       "3  USR1004   16    MALE         Mumbai      Intermediate          IT Employee   \n",
       "4  USR1005   16    MALE        Chennai      Intermediate  Government Employee   \n",
       "\n",
       "  lead_gen_source  \n",
       "0    social_media  \n",
       "1  user_referrals  \n",
       "2  user_referrals  \n",
       "3  user_referrals  \n",
       "4  user_referrals  "
      ]
     },
     "execution_count": 4,
     "metadata": {},
     "output_type": "execute_result"
    }
   ],
   "source": [
    "df1.head()"
   ]
  },
  {
   "cell_type": "code",
   "execution_count": 128,
   "id": "44bdb5bf",
   "metadata": {},
   "outputs": [
    {
     "data": {
      "text/plain": [
       "(360, 7)"
      ]
     },
     "execution_count": 128,
     "metadata": {},
     "output_type": "execute_result"
    }
   ],
   "source": [
    "df1.shape"
   ]
  },
  {
   "cell_type": "code",
   "execution_count": 5,
   "id": "ef77f8d2",
   "metadata": {},
   "outputs": [
    {
     "name": "stdout",
     "output_type": "stream",
     "text": [
      "<class 'pandas.core.frame.DataFrame'>\n",
      "RangeIndex: 360 entries, 0 to 359\n",
      "Data columns (total 7 columns):\n",
      " #   Column             Non-Null Count  Dtype \n",
      "---  ------             --------------  ----- \n",
      " 0   lead_id            360 non-null    object\n",
      " 1   age                360 non-null    int64 \n",
      " 2   gender             360 non-null    object\n",
      " 3   current_city       360 non-null    object\n",
      " 4   current_education  360 non-null    object\n",
      " 5   parent_occupation  360 non-null    object\n",
      " 6   lead_gen_source    360 non-null    object\n",
      "dtypes: int64(1), object(6)\n",
      "memory usage: 19.8+ KB\n"
     ]
    }
   ],
   "source": [
    "df1.info()"
   ]
  },
  {
   "cell_type": "code",
   "execution_count": 6,
   "id": "6aa4eaf5",
   "metadata": {},
   "outputs": [
    {
     "data": {
      "text/plain": [
       "lead_id              0\n",
       "age                  0\n",
       "gender               0\n",
       "current_city         0\n",
       "current_education    0\n",
       "parent_occupation    0\n",
       "lead_gen_source      0\n",
       "dtype: int64"
      ]
     },
     "execution_count": 6,
     "metadata": {},
     "output_type": "execute_result"
    }
   ],
   "source": [
    "df1.isnull().sum()"
   ]
  },
  {
   "cell_type": "code",
   "execution_count": 7,
   "id": "0b896411",
   "metadata": {},
   "outputs": [
    {
     "data": {
      "text/html": [
       "<div>\n",
       "<style scoped>\n",
       "    .dataframe tbody tr th:only-of-type {\n",
       "        vertical-align: middle;\n",
       "    }\n",
       "\n",
       "    .dataframe tbody tr th {\n",
       "        vertical-align: top;\n",
       "    }\n",
       "\n",
       "    .dataframe thead th {\n",
       "        text-align: right;\n",
       "    }\n",
       "</style>\n",
       "<table border=\"1\" class=\"dataframe\">\n",
       "  <thead>\n",
       "    <tr style=\"text-align: right;\">\n",
       "      <th></th>\n",
       "      <th>age</th>\n",
       "    </tr>\n",
       "  </thead>\n",
       "  <tbody>\n",
       "    <tr>\n",
       "      <th>count</th>\n",
       "      <td>360.000000</td>\n",
       "    </tr>\n",
       "    <tr>\n",
       "      <th>mean</th>\n",
       "      <td>21.561111</td>\n",
       "    </tr>\n",
       "    <tr>\n",
       "      <th>std</th>\n",
       "      <td>11.555444</td>\n",
       "    </tr>\n",
       "    <tr>\n",
       "      <th>min</th>\n",
       "      <td>16.000000</td>\n",
       "    </tr>\n",
       "    <tr>\n",
       "      <th>25%</th>\n",
       "      <td>18.000000</td>\n",
       "    </tr>\n",
       "    <tr>\n",
       "      <th>50%</th>\n",
       "      <td>21.000000</td>\n",
       "    </tr>\n",
       "    <tr>\n",
       "      <th>75%</th>\n",
       "      <td>24.000000</td>\n",
       "    </tr>\n",
       "    <tr>\n",
       "      <th>max</th>\n",
       "      <td>211.000000</td>\n",
       "    </tr>\n",
       "  </tbody>\n",
       "</table>\n",
       "</div>"
      ],
      "text/plain": [
       "              age\n",
       "count  360.000000\n",
       "mean    21.561111\n",
       "std     11.555444\n",
       "min     16.000000\n",
       "25%     18.000000\n",
       "50%     21.000000\n",
       "75%     24.000000\n",
       "max    211.000000"
      ]
     },
     "execution_count": 7,
     "metadata": {},
     "output_type": "execute_result"
    }
   ],
   "source": [
    "df1.describe()"
   ]
  },
  {
   "cell_type": "code",
   "execution_count": 8,
   "id": "f82918de",
   "metadata": {},
   "outputs": [
    {
     "data": {
      "text/plain": [
       "lead_id              360\n",
       "age                    9\n",
       "gender                 2\n",
       "current_city           6\n",
       "current_education      6\n",
       "parent_occupation      7\n",
       "lead_gen_source        5\n",
       "dtype: int64"
      ]
     },
     "execution_count": 8,
     "metadata": {},
     "output_type": "execute_result"
    }
   ],
   "source": [
    "df1.nunique()"
   ]
  },
  {
   "cell_type": "code",
   "execution_count": 10,
   "id": "d676fc58",
   "metadata": {},
   "outputs": [
    {
     "name": "stderr",
     "output_type": "stream",
     "text": [
      "C:\\Users\\daksh\\anaconda3\\lib\\site-packages\\seaborn\\distributions.py:2619: FutureWarning: `distplot` is a deprecated function and will be removed in a future version. Please adapt your code to use either `displot` (a figure-level function with similar flexibility) or `histplot` (an axes-level function for histograms).\n",
      "  warnings.warn(msg, FutureWarning)\n",
      "C:\\Users\\daksh\\anaconda3\\lib\\site-packages\\seaborn\\_decorators.py:36: FutureWarning: Pass the following variable as a keyword arg: x. From version 0.12, the only valid positional argument will be `data`, and passing other arguments without an explicit keyword will result in an error or misinterpretation.\n",
      "  warnings.warn(\n"
     ]
    },
    {
     "data": {
      "image/png": "[encoded data removed]",
      "text/plain": [
       "<Figure size 1152x360 with 2 Axes>"
      ]
     },
     "metadata": {
      "needs_background": "light"
     },
     "output_type": "display_data"
    }
   ],
   "source": [
    "# Deal with outliers\n",
    "plt.figure(figsize=(16,5))\n",
    "plt.subplot(1,2,1)\n",
    "sns.distplot(df1['age'])\n",
    "\n",
    "plt.subplot(1,2,2)\n",
    "sns.boxplot(df1['age'])\n",
    "\n",
    "plt.show()\n"
   ]
  },
  {
   "cell_type": "code",
   "execution_count": 14,
   "id": "8fce3ef6",
   "metadata": {},
   "outputs": [],
   "source": [
    "# Finding the IQR\n",
    "q1 = df1['age'].quantile(0.25)\n",
    "q3 = df1['age'].quantile(0.75)"
   ]
  },
  {
   "cell_type": "code",
   "execution_count": 15,
   "id": "51e4bd9b",
   "metadata": {},
   "outputs": [
    {
     "name": "stdout",
     "output_type": "stream",
     "text": [
      "18.0\n",
      "24.0\n"
     ]
    }
   ],
   "source": [
    "print(q1)\n",
    "print(q3)"
   ]
  },
  {
   "cell_type": "code",
   "execution_count": 16,
   "id": "e8c4a843",
   "metadata": {},
   "outputs": [
    {
     "name": "stdout",
     "output_type": "stream",
     "text": [
      "6.0\n"
     ]
    }
   ],
   "source": [
    "iqr = q3 - q1\n",
    "print(iqr)"
   ]
  },
  {
   "cell_type": "code",
   "execution_count": 17,
   "id": "6b31553a",
   "metadata": {},
   "outputs": [],
   "source": [
    "upper_limit = q3 + 1.5 * iqr\n",
    "lower_limit = q1 - 1.5 * iqr"
   ]
  },
  {
   "cell_type": "code",
   "execution_count": 18,
   "id": "18c91fa1",
   "metadata": {},
   "outputs": [
    {
     "name": "stdout",
     "output_type": "stream",
     "text": [
      "33.0\n",
      "9.0\n"
     ]
    }
   ],
   "source": [
    "print(upper_limit)\n",
    "print(lower_limit)"
   ]
  },
  {
   "cell_type": "code",
   "execution_count": 19,
   "id": "48c80f4a",
   "metadata": {},
   "outputs": [
    {
     "data": {
      "text/html": [
       "<div>\n",
       "<style scoped>\n",
       "    .dataframe tbody tr th:only-of-type {\n",
       "        vertical-align: middle;\n",
       "    }\n",
       "\n",
       "    .dataframe tbody tr th {\n",
       "        vertical-align: top;\n",
       "    }\n",
       "\n",
       "    .dataframe thead th {\n",
       "        text-align: right;\n",
       "    }\n",
       "</style>\n",
       "<table border=\"1\" class=\"dataframe\">\n",
       "  <thead>\n",
       "    <tr style=\"text-align: right;\">\n",
       "      <th></th>\n",
       "      <th>lead_id</th>\n",
       "      <th>age</th>\n",
       "      <th>gender</th>\n",
       "      <th>current_city</th>\n",
       "      <th>current_education</th>\n",
       "      <th>parent_occupation</th>\n",
       "      <th>lead_gen_source</th>\n",
       "    </tr>\n",
       "  </thead>\n",
       "  <tbody>\n",
       "    <tr>\n",
       "      <th>17</th>\n",
       "      <td>USR1018</td>\n",
       "      <td>211</td>\n",
       "      <td>MALE</td>\n",
       "      <td>Hyderabad</td>\n",
       "      <td>Degree</td>\n",
       "      <td>IT Employee</td>\n",
       "      <td>social_media</td>\n",
       "    </tr>\n",
       "    <tr>\n",
       "      <th>300</th>\n",
       "      <td>USR1301</td>\n",
       "      <td>116</td>\n",
       "      <td>FEMALE</td>\n",
       "      <td>Hyderabad</td>\n",
       "      <td>Intermediate</td>\n",
       "      <td>Private Employee</td>\n",
       "      <td>social_media</td>\n",
       "    </tr>\n",
       "  </tbody>\n",
       "</table>\n",
       "</div>"
      ],
      "text/plain": [
       "     lead_id  age  gender current_city current_education parent_occupation  \\\n",
       "17   USR1018  211    MALE    Hyderabad            Degree       IT Employee   \n",
       "300  USR1301  116  FEMALE    Hyderabad      Intermediate  Private Employee   \n",
       "\n",
       "    lead_gen_source  \n",
       "17     social_media  \n",
       "300    social_media  "
      ]
     },
     "execution_count": 19,
     "metadata": {},
     "output_type": "execute_result"
    }
   ],
   "source": [
    "# Finding_outliers\n",
    "df1[df1['age'] > upper_limit]"
   ]
  },
  {
   "cell_type": "code",
   "execution_count": 20,
   "id": "6283435c",
   "metadata": {},
   "outputs": [
    {
     "data": {
      "text/html": [
       "<div>\n",
       "<style scoped>\n",
       "    .dataframe tbody tr th:only-of-type {\n",
       "        vertical-align: middle;\n",
       "    }\n",
       "\n",
       "    .dataframe tbody tr th {\n",
       "        vertical-align: top;\n",
       "    }\n",
       "\n",
       "    .dataframe thead th {\n",
       "        text-align: right;\n",
       "    }\n",
       "</style>\n",
       "<table border=\"1\" class=\"dataframe\">\n",
       "  <thead>\n",
       "    <tr style=\"text-align: right;\">\n",
       "      <th></th>\n",
       "      <th>lead_id</th>\n",
       "      <th>age</th>\n",
       "      <th>gender</th>\n",
       "      <th>current_city</th>\n",
       "      <th>current_education</th>\n",
       "      <th>parent_occupation</th>\n",
       "      <th>lead_gen_source</th>\n",
       "    </tr>\n",
       "  </thead>\n",
       "  <tbody>\n",
       "  </tbody>\n",
       "</table>\n",
       "</div>"
      ],
      "text/plain": [
       "Empty DataFrame\n",
       "Columns: [lead_id, age, gender, current_city, current_education, parent_occupation, lead_gen_source]\n",
       "Index: []"
      ]
     },
     "execution_count": 20,
     "metadata": {},
     "output_type": "execute_result"
    }
   ],
   "source": [
    "df1[df1['age'] < lower_limit]"
   ]
  },
  {
   "cell_type": "code",
   "execution_count": 21,
   "id": "55a36401",
   "metadata": {},
   "outputs": [],
   "source": [
    "# Trimming outlier\n",
    "new_df1 = df1[df1['age'] < upper_limit]"
   ]
  },
  {
   "cell_type": "code",
   "execution_count": 23,
   "id": "1446f433",
   "metadata": {},
   "outputs": [
    {
     "data": {
      "text/plain": [
       "(358, 7)"
      ]
     },
     "execution_count": 23,
     "metadata": {},
     "output_type": "execute_result"
    }
   ],
   "source": [
    "new_df1.shape"
   ]
  },
  {
   "cell_type": "code",
   "execution_count": null,
   "id": "8a6b8149",
   "metadata": {},
   "outputs": [],
   "source": []
  },
  {
   "cell_type": "code",
   "execution_count": null,
   "id": "21bd6a94",
   "metadata": {},
   "outputs": [],
   "source": []
  },
  {
   "cell_type": "markdown",
   "id": "e5988c95",
   "metadata": {},
   "source": [
    "## sales_managers_assigned_leads_details"
   ]
  },
  {
   "cell_type": "code",
   "execution_count": 24,
   "id": "209ef19c",
   "metadata": {},
   "outputs": [
    {
     "data": {
      "text/html": [
       "<div>\n",
       "<style scoped>\n",
       "    .dataframe tbody tr th:only-of-type {\n",
       "        vertical-align: middle;\n",
       "    }\n",
       "\n",
       "    .dataframe tbody tr th {\n",
       "        vertical-align: top;\n",
       "    }\n",
       "\n",
       "    .dataframe thead th {\n",
       "        text-align: right;\n",
       "    }\n",
       "</style>\n",
       "<table border=\"1\" class=\"dataframe\">\n",
       "  <thead>\n",
       "    <tr style=\"text-align: right;\">\n",
       "      <th></th>\n",
       "      <th>snr_sm_id</th>\n",
       "      <th>jnr_sm_id</th>\n",
       "      <th>assigned_date</th>\n",
       "      <th>cycle</th>\n",
       "      <th>lead_id</th>\n",
       "    </tr>\n",
       "  </thead>\n",
       "  <tbody>\n",
       "    <tr>\n",
       "      <th>124</th>\n",
       "      <td>SNR502MG</td>\n",
       "      <td>JNR1007MG</td>\n",
       "      <td>1/1/2022</td>\n",
       "      <td>1</td>\n",
       "      <td>USR1125</td>\n",
       "    </tr>\n",
       "    <tr>\n",
       "      <th>110</th>\n",
       "      <td>SNR502MG</td>\n",
       "      <td>JNR1006MG</td>\n",
       "      <td>1/15/2022</td>\n",
       "      <td>3</td>\n",
       "      <td>USR1111</td>\n",
       "    </tr>\n",
       "    <tr>\n",
       "      <th>357</th>\n",
       "      <td>SNR501MG</td>\n",
       "      <td>JNR1001MG</td>\n",
       "      <td>1/8/2022</td>\n",
       "      <td>2</td>\n",
       "      <td>USR1358</td>\n",
       "    </tr>\n",
       "    <tr>\n",
       "      <th>189</th>\n",
       "      <td>SNR503MG</td>\n",
       "      <td>JNR1010MG</td>\n",
       "      <td>1/8/2022</td>\n",
       "      <td>2</td>\n",
       "      <td>USR1190</td>\n",
       "    </tr>\n",
       "    <tr>\n",
       "      <th>33</th>\n",
       "      <td>SNR501MG</td>\n",
       "      <td>JNR1002MG</td>\n",
       "      <td>1/15/2022</td>\n",
       "      <td>3</td>\n",
       "      <td>USR1034</td>\n",
       "    </tr>\n",
       "  </tbody>\n",
       "</table>\n",
       "</div>"
      ],
      "text/plain": [
       "    snr_sm_id  jnr_sm_id assigned_date  cycle  lead_id\n",
       "124  SNR502MG  JNR1007MG      1/1/2022      1  USR1125\n",
       "110  SNR502MG  JNR1006MG     1/15/2022      3  USR1111\n",
       "357  SNR501MG  JNR1001MG      1/8/2022      2  USR1358\n",
       "189  SNR503MG  JNR1010MG      1/8/2022      2  USR1190\n",
       "33   SNR501MG  JNR1002MG     1/15/2022      3  USR1034"
      ]
     },
     "execution_count": 24,
     "metadata": {},
     "output_type": "execute_result"
    }
   ],
   "source": [
    "df2.sample(5)"
   ]
  },
  {
   "cell_type": "code",
   "execution_count": 25,
   "id": "c8f9e0f2",
   "metadata": {
    "scrolled": true
   },
   "outputs": [
    {
     "name": "stdout",
     "output_type": "stream",
     "text": [
      "<class 'pandas.core.frame.DataFrame'>\n",
      "RangeIndex: 360 entries, 0 to 359\n",
      "Data columns (total 5 columns):\n",
      " #   Column         Non-Null Count  Dtype \n",
      "---  ------         --------------  ----- \n",
      " 0   snr_sm_id      360 non-null    object\n",
      " 1   jnr_sm_id      360 non-null    object\n",
      " 2   assigned_date  360 non-null    object\n",
      " 3   cycle          360 non-null    int64 \n",
      " 4   lead_id        360 non-null    object\n",
      "dtypes: int64(1), object(4)\n",
      "memory usage: 14.2+ KB\n"
     ]
    }
   ],
   "source": [
    "df2.info()"
   ]
  },
  {
   "cell_type": "code",
   "execution_count": 129,
   "id": "160732d6",
   "metadata": {},
   "outputs": [
    {
     "data": {
      "text/plain": [
       "(360, 5)"
      ]
     },
     "execution_count": 129,
     "metadata": {},
     "output_type": "execute_result"
    }
   ],
   "source": [
    "df2.shape"
   ]
  },
  {
   "cell_type": "code",
   "execution_count": 26,
   "id": "1ff0ff91",
   "metadata": {},
   "outputs": [
    {
     "data": {
      "text/plain": [
       "snr_sm_id        0\n",
       "jnr_sm_id        0\n",
       "assigned_date    0\n",
       "cycle            0\n",
       "lead_id          0\n",
       "dtype: int64"
      ]
     },
     "execution_count": 26,
     "metadata": {},
     "output_type": "execute_result"
    }
   ],
   "source": [
    "df2.isnull().sum()"
   ]
  },
  {
   "cell_type": "code",
   "execution_count": 27,
   "id": "892425ce",
   "metadata": {},
   "outputs": [
    {
     "data": {
      "text/html": [
       "<div>\n",
       "<style scoped>\n",
       "    .dataframe tbody tr th:only-of-type {\n",
       "        vertical-align: middle;\n",
       "    }\n",
       "\n",
       "    .dataframe tbody tr th {\n",
       "        vertical-align: top;\n",
       "    }\n",
       "\n",
       "    .dataframe thead th {\n",
       "        text-align: right;\n",
       "    }\n",
       "</style>\n",
       "<table border=\"1\" class=\"dataframe\">\n",
       "  <thead>\n",
       "    <tr style=\"text-align: right;\">\n",
       "      <th></th>\n",
       "      <th>cycle</th>\n",
       "    </tr>\n",
       "  </thead>\n",
       "  <tbody>\n",
       "    <tr>\n",
       "      <th>count</th>\n",
       "      <td>360.000000</td>\n",
       "    </tr>\n",
       "    <tr>\n",
       "      <th>mean</th>\n",
       "      <td>2.469444</td>\n",
       "    </tr>\n",
       "    <tr>\n",
       "      <th>std</th>\n",
       "      <td>1.124139</td>\n",
       "    </tr>\n",
       "    <tr>\n",
       "      <th>min</th>\n",
       "      <td>1.000000</td>\n",
       "    </tr>\n",
       "    <tr>\n",
       "      <th>25%</th>\n",
       "      <td>1.000000</td>\n",
       "    </tr>\n",
       "    <tr>\n",
       "      <th>50%</th>\n",
       "      <td>2.000000</td>\n",
       "    </tr>\n",
       "    <tr>\n",
       "      <th>75%</th>\n",
       "      <td>3.000000</td>\n",
       "    </tr>\n",
       "    <tr>\n",
       "      <th>max</th>\n",
       "      <td>4.000000</td>\n",
       "    </tr>\n",
       "  </tbody>\n",
       "</table>\n",
       "</div>"
      ],
      "text/plain": [
       "            cycle\n",
       "count  360.000000\n",
       "mean     2.469444\n",
       "std      1.124139\n",
       "min      1.000000\n",
       "25%      1.000000\n",
       "50%      2.000000\n",
       "75%      3.000000\n",
       "max      4.000000"
      ]
     },
     "execution_count": 27,
     "metadata": {},
     "output_type": "execute_result"
    }
   ],
   "source": [
    "df2.describe()"
   ]
  },
  {
   "cell_type": "code",
   "execution_count": 29,
   "id": "632acedf",
   "metadata": {},
   "outputs": [],
   "source": [
    "df2['assigned_date'] = pd.to_datetime(df2['assigned_date'])"
   ]
  },
  {
   "cell_type": "code",
   "execution_count": 30,
   "id": "4a8dee1f",
   "metadata": {},
   "outputs": [
    {
     "name": "stdout",
     "output_type": "stream",
     "text": [
      "<class 'pandas.core.frame.DataFrame'>\n",
      "RangeIndex: 360 entries, 0 to 359\n",
      "Data columns (total 5 columns):\n",
      " #   Column         Non-Null Count  Dtype         \n",
      "---  ------         --------------  -----         \n",
      " 0   snr_sm_id      360 non-null    object        \n",
      " 1   jnr_sm_id      360 non-null    object        \n",
      " 2   assigned_date  360 non-null    datetime64[ns]\n",
      " 3   cycle          360 non-null    int64         \n",
      " 4   lead_id        360 non-null    object        \n",
      "dtypes: datetime64[ns](1), int64(1), object(3)\n",
      "memory usage: 14.2+ KB\n"
     ]
    }
   ],
   "source": [
    "df2.info()"
   ]
  },
  {
   "cell_type": "code",
   "execution_count": 88,
   "id": "20de327d",
   "metadata": {
    "scrolled": true
   },
   "outputs": [
    {
     "data": {
      "text/html": [
       "<div>\n",
       "<style scoped>\n",
       "    .dataframe tbody tr th:only-of-type {\n",
       "        vertical-align: middle;\n",
       "    }\n",
       "\n",
       "    .dataframe tbody tr th {\n",
       "        vertical-align: top;\n",
       "    }\n",
       "\n",
       "    .dataframe thead th {\n",
       "        text-align: right;\n",
       "    }\n",
       "</style>\n",
       "<table border=\"1\" class=\"dataframe\">\n",
       "  <thead>\n",
       "    <tr style=\"text-align: right;\">\n",
       "      <th></th>\n",
       "      <th>snr_sm_id</th>\n",
       "      <th>jnr_sm_id</th>\n",
       "      <th>assigned_date</th>\n",
       "      <th>cycle</th>\n",
       "      <th>lead_id</th>\n",
       "    </tr>\n",
       "  </thead>\n",
       "  <tbody>\n",
       "    <tr>\n",
       "      <th>58</th>\n",
       "      <td>SNR501MG</td>\n",
       "      <td>JNR1003MG</td>\n",
       "      <td>2022-02-19</td>\n",
       "      <td>4</td>\n",
       "      <td>USR1059</td>\n",
       "    </tr>\n",
       "    <tr>\n",
       "      <th>75</th>\n",
       "      <td>SNR501MG</td>\n",
       "      <td>JNR1004MG</td>\n",
       "      <td>2022-02-19</td>\n",
       "      <td>4</td>\n",
       "      <td>USR1076</td>\n",
       "    </tr>\n",
       "    <tr>\n",
       "      <th>299</th>\n",
       "      <td>SNR504MG</td>\n",
       "      <td>JNR1015MG</td>\n",
       "      <td>2022-02-19</td>\n",
       "      <td>4</td>\n",
       "      <td>USR1300</td>\n",
       "    </tr>\n",
       "    <tr>\n",
       "      <th>328</th>\n",
       "      <td>SNR504MG</td>\n",
       "      <td>JNR1016MG</td>\n",
       "      <td>2022-01-01</td>\n",
       "      <td>1</td>\n",
       "      <td>USR1329</td>\n",
       "    </tr>\n",
       "    <tr>\n",
       "      <th>298</th>\n",
       "      <td>SNR504MG</td>\n",
       "      <td>JNR1015MG</td>\n",
       "      <td>2022-02-19</td>\n",
       "      <td>4</td>\n",
       "      <td>USR1299</td>\n",
       "    </tr>\n",
       "    <tr>\n",
       "      <th>190</th>\n",
       "      <td>SNR503MG</td>\n",
       "      <td>JNR1010MG</td>\n",
       "      <td>2022-01-15</td>\n",
       "      <td>3</td>\n",
       "      <td>USR1191</td>\n",
       "    </tr>\n",
       "    <tr>\n",
       "      <th>281</th>\n",
       "      <td>SNR504MG</td>\n",
       "      <td>JNR1015MG</td>\n",
       "      <td>2022-01-01</td>\n",
       "      <td>1</td>\n",
       "      <td>USR1282</td>\n",
       "    </tr>\n",
       "    <tr>\n",
       "      <th>76</th>\n",
       "      <td>SNR501MG</td>\n",
       "      <td>JNR1004MG</td>\n",
       "      <td>2022-02-19</td>\n",
       "      <td>4</td>\n",
       "      <td>USR1077</td>\n",
       "    </tr>\n",
       "    <tr>\n",
       "      <th>206</th>\n",
       "      <td>SNR503MG</td>\n",
       "      <td>JNR1011MG</td>\n",
       "      <td>2022-01-08</td>\n",
       "      <td>2</td>\n",
       "      <td>USR1207</td>\n",
       "    </tr>\n",
       "    <tr>\n",
       "      <th>245</th>\n",
       "      <td>SNR504MG</td>\n",
       "      <td>JNR1013MG</td>\n",
       "      <td>2022-01-08</td>\n",
       "      <td>2</td>\n",
       "      <td>USR1246</td>\n",
       "    </tr>\n",
       "  </tbody>\n",
       "</table>\n",
       "</div>"
      ],
      "text/plain": [
       "    snr_sm_id  jnr_sm_id assigned_date  cycle  lead_id\n",
       "58   SNR501MG  JNR1003MG    2022-02-19      4  USR1059\n",
       "75   SNR501MG  JNR1004MG    2022-02-19      4  USR1076\n",
       "299  SNR504MG  JNR1015MG    2022-02-19      4  USR1300\n",
       "328  SNR504MG  JNR1016MG    2022-01-01      1  USR1329\n",
       "298  SNR504MG  JNR1015MG    2022-02-19      4  USR1299\n",
       "190  SNR503MG  JNR1010MG    2022-01-15      3  USR1191\n",
       "281  SNR504MG  JNR1015MG    2022-01-01      1  USR1282\n",
       "76   SNR501MG  JNR1004MG    2022-02-19      4  USR1077\n",
       "206  SNR503MG  JNR1011MG    2022-01-08      2  USR1207\n",
       "245  SNR504MG  JNR1013MG    2022-01-08      2  USR1246"
      ]
     },
     "execution_count": 88,
     "metadata": {},
     "output_type": "execute_result"
    }
   ],
   "source": [
    "df2.sample(10)"
   ]
  },
  {
   "cell_type": "code",
   "execution_count": 90,
   "id": "2dacedce",
   "metadata": {},
   "outputs": [
    {
     "data": {
      "text/plain": [
       "array([1, 2, 3, 4], dtype=int64)"
      ]
     },
     "execution_count": 90,
     "metadata": {},
     "output_type": "execute_result"
    }
   ],
   "source": [
    "df2['cycle'].unique()\n",
    "# No null values"
   ]
  },
  {
   "cell_type": "code",
   "execution_count": null,
   "id": "dcd612b1",
   "metadata": {},
   "outputs": [],
   "source": []
  },
  {
   "cell_type": "markdown",
   "id": "a5812ab5",
   "metadata": {},
   "source": [
    "## leads_interaction_details"
   ]
  },
  {
   "cell_type": "code",
   "execution_count": 92,
   "id": "d22f01f3",
   "metadata": {},
   "outputs": [
    {
     "data": {
      "text/html": [
       "<div>\n",
       "<style scoped>\n",
       "    .dataframe tbody tr th:only-of-type {\n",
       "        vertical-align: middle;\n",
       "    }\n",
       "\n",
       "    .dataframe tbody tr th {\n",
       "        vertical-align: top;\n",
       "    }\n",
       "\n",
       "    .dataframe thead th {\n",
       "        text-align: right;\n",
       "    }\n",
       "</style>\n",
       "<table border=\"1\" class=\"dataframe\">\n",
       "  <thead>\n",
       "    <tr style=\"text-align: right;\">\n",
       "      <th></th>\n",
       "      <th>jnr_sm_id</th>\n",
       "      <th>lead_id</th>\n",
       "      <th>lead_stage</th>\n",
       "      <th>call_done_date</th>\n",
       "      <th>call_status</th>\n",
       "      <th>call_reason</th>\n",
       "    </tr>\n",
       "  </thead>\n",
       "  <tbody>\n",
       "    <tr>\n",
       "      <th>203</th>\n",
       "      <td>JNR1002MG</td>\n",
       "      <td>USR1037</td>\n",
       "      <td>awareness</td>\n",
       "      <td>2/23/2022</td>\n",
       "      <td>successful</td>\n",
       "      <td>followup_for_consideration</td>\n",
       "    </tr>\n",
       "    <tr>\n",
       "      <th>1156</th>\n",
       "      <td>JNR1010MG</td>\n",
       "      <td>USR1181</td>\n",
       "      <td>lead</td>\n",
       "      <td>1/1/2022</td>\n",
       "      <td>successful</td>\n",
       "      <td>lead_introduction</td>\n",
       "    </tr>\n",
       "    <tr>\n",
       "      <th>1616</th>\n",
       "      <td>JNR1013MG</td>\n",
       "      <td>USR1248</td>\n",
       "      <td>lead</td>\n",
       "      <td>1/10/2022</td>\n",
       "      <td>successful</td>\n",
       "      <td>demo_schedule</td>\n",
       "    </tr>\n",
       "    <tr>\n",
       "      <th>2155</th>\n",
       "      <td>JNR1011MG</td>\n",
       "      <td>USR1336</td>\n",
       "      <td>lead</td>\n",
       "      <td>1/1/2022</td>\n",
       "      <td>unsuccessful</td>\n",
       "      <td>lead_introduction</td>\n",
       "    </tr>\n",
       "    <tr>\n",
       "      <th>1335</th>\n",
       "      <td>JNR1011MG</td>\n",
       "      <td>USR1207</td>\n",
       "      <td>lead</td>\n",
       "      <td>1/12/2022</td>\n",
       "      <td>successful</td>\n",
       "      <td>demo_schedule</td>\n",
       "    </tr>\n",
       "  </tbody>\n",
       "</table>\n",
       "</div>"
      ],
      "text/plain": [
       "      jnr_sm_id  lead_id lead_stage call_done_date   call_status  \\\n",
       "203   JNR1002MG  USR1037  awareness      2/23/2022    successful   \n",
       "1156  JNR1010MG  USR1181       lead       1/1/2022    successful   \n",
       "1616  JNR1013MG  USR1248       lead      1/10/2022    successful   \n",
       "2155  JNR1011MG  USR1336       lead       1/1/2022  unsuccessful   \n",
       "1335  JNR1011MG  USR1207       lead      1/12/2022    successful   \n",
       "\n",
       "                     call_reason  \n",
       "203   followup_for_consideration  \n",
       "1156           lead_introduction  \n",
       "1616               demo_schedule  \n",
       "2155           lead_introduction  \n",
       "1335               demo_schedule  "
      ]
     },
     "execution_count": 92,
     "metadata": {},
     "output_type": "execute_result"
    }
   ],
   "source": [
    "df3.sample(5)"
   ]
  },
  {
   "cell_type": "code",
   "execution_count": 93,
   "id": "90e19a16",
   "metadata": {
    "scrolled": false
   },
   "outputs": [
    {
     "name": "stdout",
     "output_type": "stream",
     "text": [
      "<class 'pandas.core.frame.DataFrame'>\n",
      "RangeIndex: 2192 entries, 0 to 2191\n",
      "Data columns (total 6 columns):\n",
      " #   Column          Non-Null Count  Dtype \n",
      "---  ------          --------------  ----- \n",
      " 0   jnr_sm_id       2192 non-null   object\n",
      " 1   lead_id         2192 non-null   object\n",
      " 2   lead_stage      2192 non-null   object\n",
      " 3   call_done_date  2192 non-null   object\n",
      " 4   call_status     2192 non-null   object\n",
      " 5   call_reason     2192 non-null   object\n",
      "dtypes: object(6)\n",
      "memory usage: 102.9+ KB\n"
     ]
    }
   ],
   "source": [
    "df3.info()"
   ]
  },
  {
   "cell_type": "code",
   "execution_count": 130,
   "id": "38be83e9",
   "metadata": {},
   "outputs": [
    {
     "data": {
      "text/plain": [
       "(2192, 6)"
      ]
     },
     "execution_count": 130,
     "metadata": {},
     "output_type": "execute_result"
    }
   ],
   "source": [
    "df3.shape"
   ]
  },
  {
   "cell_type": "code",
   "execution_count": 96,
   "id": "e2bef2e7",
   "metadata": {},
   "outputs": [
    {
     "data": {
      "text/plain": [
       "jnr_sm_id         0\n",
       "lead_id           0\n",
       "lead_stage        0\n",
       "call_done_date    0\n",
       "call_status       0\n",
       "call_reason       0\n",
       "dtype: int64"
      ]
     },
     "execution_count": 96,
     "metadata": {},
     "output_type": "execute_result"
    }
   ],
   "source": [
    "df3.isnull().sum()"
   ]
  },
  {
   "cell_type": "code",
   "execution_count": 94,
   "id": "a8b969e1",
   "metadata": {},
   "outputs": [],
   "source": [
    "df3['call_done_date'] = pd.to_datetime(df3['call_done_date'])"
   ]
  },
  {
   "cell_type": "code",
   "execution_count": 97,
   "id": "882da627",
   "metadata": {},
   "outputs": [
    {
     "data": {
      "text/plain": [
       "jnr_sm_id          16\n",
       "lead_id           358\n",
       "lead_stage          4\n",
       "call_done_date     40\n",
       "call_status         2\n",
       "call_reason         8\n",
       "dtype: int64"
      ]
     },
     "execution_count": 97,
     "metadata": {},
     "output_type": "execute_result"
    }
   ],
   "source": [
    "df3.nunique()"
   ]
  },
  {
   "cell_type": "code",
   "execution_count": 95,
   "id": "5f4e3d44",
   "metadata": {
    "scrolled": true
   },
   "outputs": [
    {
     "name": "stdout",
     "output_type": "stream",
     "text": [
      "<class 'pandas.core.frame.DataFrame'>\n",
      "RangeIndex: 2192 entries, 0 to 2191\n",
      "Data columns (total 6 columns):\n",
      " #   Column          Non-Null Count  Dtype         \n",
      "---  ------          --------------  -----         \n",
      " 0   jnr_sm_id       2192 non-null   object        \n",
      " 1   lead_id         2192 non-null   object        \n",
      " 2   lead_stage      2192 non-null   object        \n",
      " 3   call_done_date  2192 non-null   datetime64[ns]\n",
      " 4   call_status     2192 non-null   object        \n",
      " 5   call_reason     2192 non-null   object        \n",
      "dtypes: datetime64[ns](1), object(5)\n",
      "memory usage: 102.9+ KB\n"
     ]
    }
   ],
   "source": [
    "df3.info()"
   ]
  },
  {
   "cell_type": "code",
   "execution_count": 99,
   "id": "5ffa36b0",
   "metadata": {},
   "outputs": [
    {
     "name": "stderr",
     "output_type": "stream",
     "text": [
      "C:\\Users\\daksh\\AppData\\Local\\Temp\\ipykernel_28024\\4162941808.py:1: FutureWarning: Treating datetime data as categorical rather than numeric in `.describe` is deprecated and will be removed in a future version of pandas. Specify `datetime_is_numeric=True` to silence this warning and adopt the future behavior now.\n",
      "  df3.describe()\n"
     ]
    },
    {
     "data": {
      "text/html": [
       "<div>\n",
       "<style scoped>\n",
       "    .dataframe tbody tr th:only-of-type {\n",
       "        vertical-align: middle;\n",
       "    }\n",
       "\n",
       "    .dataframe tbody tr th {\n",
       "        vertical-align: top;\n",
       "    }\n",
       "\n",
       "    .dataframe thead th {\n",
       "        text-align: right;\n",
       "    }\n",
       "</style>\n",
       "<table border=\"1\" class=\"dataframe\">\n",
       "  <thead>\n",
       "    <tr style=\"text-align: right;\">\n",
       "      <th></th>\n",
       "      <th>jnr_sm_id</th>\n",
       "      <th>lead_id</th>\n",
       "      <th>lead_stage</th>\n",
       "      <th>call_done_date</th>\n",
       "      <th>call_status</th>\n",
       "      <th>call_reason</th>\n",
       "    </tr>\n",
       "  </thead>\n",
       "  <tbody>\n",
       "    <tr>\n",
       "      <th>count</th>\n",
       "      <td>2192</td>\n",
       "      <td>2192</td>\n",
       "      <td>2192</td>\n",
       "      <td>2192</td>\n",
       "      <td>2192</td>\n",
       "      <td>2192</td>\n",
       "    </tr>\n",
       "    <tr>\n",
       "      <th>unique</th>\n",
       "      <td>16</td>\n",
       "      <td>358</td>\n",
       "      <td>4</td>\n",
       "      <td>40</td>\n",
       "      <td>2</td>\n",
       "      <td>8</td>\n",
       "    </tr>\n",
       "    <tr>\n",
       "      <th>top</th>\n",
       "      <td>JNR1012MG</td>\n",
       "      <td>USR1193</td>\n",
       "      <td>lead</td>\n",
       "      <td>2022-01-08 00:00:00</td>\n",
       "      <td>successful</td>\n",
       "      <td>demo_not_attended</td>\n",
       "    </tr>\n",
       "    <tr>\n",
       "      <th>freq</th>\n",
       "      <td>164</td>\n",
       "      <td>11</td>\n",
       "      <td>1547</td>\n",
       "      <td>156</td>\n",
       "      <td>1866</td>\n",
       "      <td>701</td>\n",
       "    </tr>\n",
       "    <tr>\n",
       "      <th>first</th>\n",
       "      <td>NaN</td>\n",
       "      <td>NaN</td>\n",
       "      <td>NaN</td>\n",
       "      <td>2022-01-01 00:00:00</td>\n",
       "      <td>NaN</td>\n",
       "      <td>NaN</td>\n",
       "    </tr>\n",
       "    <tr>\n",
       "      <th>last</th>\n",
       "      <td>NaN</td>\n",
       "      <td>NaN</td>\n",
       "      <td>NaN</td>\n",
       "      <td>2022-03-01 00:00:00</td>\n",
       "      <td>NaN</td>\n",
       "      <td>NaN</td>\n",
       "    </tr>\n",
       "  </tbody>\n",
       "</table>\n",
       "</div>"
      ],
      "text/plain": [
       "        jnr_sm_id  lead_id lead_stage       call_done_date call_status  \\\n",
       "count        2192     2192       2192                 2192        2192   \n",
       "unique         16      358          4                   40           2   \n",
       "top     JNR1012MG  USR1193       lead  2022-01-08 00:00:00  successful   \n",
       "freq          164       11       1547                  156        1866   \n",
       "first         NaN      NaN        NaN  2022-01-01 00:00:00         NaN   \n",
       "last          NaN      NaN        NaN  2022-03-01 00:00:00         NaN   \n",
       "\n",
       "              call_reason  \n",
       "count                2192  \n",
       "unique                  8  \n",
       "top     demo_not_attended  \n",
       "freq                  701  \n",
       "first                 NaN  \n",
       "last                  NaN  "
      ]
     },
     "execution_count": 99,
     "metadata": {},
     "output_type": "execute_result"
    }
   ],
   "source": [
    "df3.describe()"
   ]
  },
  {
   "cell_type": "code",
   "execution_count": null,
   "id": "880ce6c3",
   "metadata": {},
   "outputs": [],
   "source": []
  },
  {
   "cell_type": "markdown",
   "id": "446de722",
   "metadata": {},
   "source": [
    "## leads_demo_watched_details"
   ]
  },
  {
   "cell_type": "code",
   "execution_count": 98,
   "id": "cf39e3e4",
   "metadata": {
    "scrolled": true
   },
   "outputs": [
    {
     "data": {
      "text/html": [
       "<div>\n",
       "<style scoped>\n",
       "    .dataframe tbody tr th:only-of-type {\n",
       "        vertical-align: middle;\n",
       "    }\n",
       "\n",
       "    .dataframe tbody tr th {\n",
       "        vertical-align: top;\n",
       "    }\n",
       "\n",
       "    .dataframe thead th {\n",
       "        text-align: right;\n",
       "    }\n",
       "</style>\n",
       "<table border=\"1\" class=\"dataframe\">\n",
       "  <thead>\n",
       "    <tr style=\"text-align: right;\">\n",
       "      <th></th>\n",
       "      <th>lead_id</th>\n",
       "      <th>demo_watched_date</th>\n",
       "      <th>language</th>\n",
       "      <th>watched_percentage</th>\n",
       "    </tr>\n",
       "  </thead>\n",
       "  <tbody>\n",
       "    <tr>\n",
       "      <th>5</th>\n",
       "      <td>USR1007</td>\n",
       "      <td>1/11/2022</td>\n",
       "      <td>English</td>\n",
       "      <td>52</td>\n",
       "    </tr>\n",
       "    <tr>\n",
       "      <th>50</th>\n",
       "      <td>USR1055</td>\n",
       "      <td>1/18/2022</td>\n",
       "      <td>English</td>\n",
       "      <td>70</td>\n",
       "    </tr>\n",
       "    <tr>\n",
       "      <th>137</th>\n",
       "      <td>USR1222</td>\n",
       "      <td>1/6/2022</td>\n",
       "      <td>English</td>\n",
       "      <td>25</td>\n",
       "    </tr>\n",
       "    <tr>\n",
       "      <th>121</th>\n",
       "      <td>USR1191</td>\n",
       "      <td>1/17/2022</td>\n",
       "      <td>Telugu</td>\n",
       "      <td>85</td>\n",
       "    </tr>\n",
       "    <tr>\n",
       "      <th>156</th>\n",
       "      <td>USR1257</td>\n",
       "      <td>2/25/2022</td>\n",
       "      <td>English</td>\n",
       "      <td>19</td>\n",
       "    </tr>\n",
       "  </tbody>\n",
       "</table>\n",
       "</div>"
      ],
      "text/plain": [
       "     lead_id demo_watched_date language  watched_percentage\n",
       "5    USR1007         1/11/2022  English                  52\n",
       "50   USR1055         1/18/2022  English                  70\n",
       "137  USR1222          1/6/2022  English                  25\n",
       "121  USR1191         1/17/2022   Telugu                  85\n",
       "156  USR1257         2/25/2022  English                  19"
      ]
     },
     "execution_count": 98,
     "metadata": {},
     "output_type": "execute_result"
    }
   ],
   "source": [
    "df4.sample(5)"
   ]
  },
  {
   "cell_type": "code",
   "execution_count": 114,
   "id": "e2c94ae4",
   "metadata": {},
   "outputs": [
    {
     "data": {
      "text/plain": [
       "(194, 4)"
      ]
     },
     "execution_count": 114,
     "metadata": {},
     "output_type": "execute_result"
    }
   ],
   "source": [
    "df4.shape"
   ]
  },
  {
   "cell_type": "code",
   "execution_count": 100,
   "id": "5433c3af",
   "metadata": {},
   "outputs": [
    {
     "name": "stdout",
     "output_type": "stream",
     "text": [
      "<class 'pandas.core.frame.DataFrame'>\n",
      "RangeIndex: 194 entries, 0 to 193\n",
      "Data columns (total 4 columns):\n",
      " #   Column              Non-Null Count  Dtype \n",
      "---  ------              --------------  ----- \n",
      " 0   lead_id             194 non-null    object\n",
      " 1   demo_watched_date   194 non-null    object\n",
      " 2   language            194 non-null    object\n",
      " 3   watched_percentage  194 non-null    int64 \n",
      "dtypes: int64(1), object(3)\n",
      "memory usage: 6.2+ KB\n"
     ]
    }
   ],
   "source": [
    "df4.info()"
   ]
  },
  {
   "cell_type": "code",
   "execution_count": 101,
   "id": "a7ed50e4",
   "metadata": {},
   "outputs": [
    {
     "data": {
      "text/plain": [
       "lead_id               0\n",
       "demo_watched_date     0\n",
       "language              0\n",
       "watched_percentage    0\n",
       "dtype: int64"
      ]
     },
     "execution_count": 101,
     "metadata": {},
     "output_type": "execute_result"
    }
   ],
   "source": [
    "df4.isnull().sum()"
   ]
  },
  {
   "cell_type": "code",
   "execution_count": 102,
   "id": "797841b9",
   "metadata": {},
   "outputs": [
    {
     "data": {
      "text/html": [
       "<div>\n",
       "<style scoped>\n",
       "    .dataframe tbody tr th:only-of-type {\n",
       "        vertical-align: middle;\n",
       "    }\n",
       "\n",
       "    .dataframe tbody tr th {\n",
       "        vertical-align: top;\n",
       "    }\n",
       "\n",
       "    .dataframe thead th {\n",
       "        text-align: right;\n",
       "    }\n",
       "</style>\n",
       "<table border=\"1\" class=\"dataframe\">\n",
       "  <thead>\n",
       "    <tr style=\"text-align: right;\">\n",
       "      <th></th>\n",
       "      <th>watched_percentage</th>\n",
       "    </tr>\n",
       "  </thead>\n",
       "  <tbody>\n",
       "    <tr>\n",
       "      <th>count</th>\n",
       "      <td>194.000000</td>\n",
       "    </tr>\n",
       "    <tr>\n",
       "      <th>mean</th>\n",
       "      <td>56.634021</td>\n",
       "    </tr>\n",
       "    <tr>\n",
       "      <th>std</th>\n",
       "      <td>43.555635</td>\n",
       "    </tr>\n",
       "    <tr>\n",
       "      <th>min</th>\n",
       "      <td>2.000000</td>\n",
       "    </tr>\n",
       "    <tr>\n",
       "      <th>25%</th>\n",
       "      <td>35.000000</td>\n",
       "    </tr>\n",
       "    <tr>\n",
       "      <th>50%</th>\n",
       "      <td>55.500000</td>\n",
       "    </tr>\n",
       "    <tr>\n",
       "      <th>75%</th>\n",
       "      <td>75.750000</td>\n",
       "    </tr>\n",
       "    <tr>\n",
       "      <th>max</th>\n",
       "      <td>510.000000</td>\n",
       "    </tr>\n",
       "  </tbody>\n",
       "</table>\n",
       "</div>"
      ],
      "text/plain": [
       "       watched_percentage\n",
       "count          194.000000\n",
       "mean            56.634021\n",
       "std             43.555635\n",
       "min              2.000000\n",
       "25%             35.000000\n",
       "50%             55.500000\n",
       "75%             75.750000\n",
       "max            510.000000"
      ]
     },
     "execution_count": 102,
     "metadata": {},
     "output_type": "execute_result"
    }
   ],
   "source": [
    "df4.describe()"
   ]
  },
  {
   "cell_type": "code",
   "execution_count": 103,
   "id": "125b2ebd",
   "metadata": {},
   "outputs": [],
   "source": [
    "df4['demo_watched_date'] = pd.to_datetime(df4['demo_watched_date'])"
   ]
  },
  {
   "cell_type": "code",
   "execution_count": 104,
   "id": "b1dc49f4",
   "metadata": {},
   "outputs": [
    {
     "name": "stdout",
     "output_type": "stream",
     "text": [
      "<class 'pandas.core.frame.DataFrame'>\n",
      "RangeIndex: 194 entries, 0 to 193\n",
      "Data columns (total 4 columns):\n",
      " #   Column              Non-Null Count  Dtype         \n",
      "---  ------              --------------  -----         \n",
      " 0   lead_id             194 non-null    object        \n",
      " 1   demo_watched_date   194 non-null    datetime64[ns]\n",
      " 2   language            194 non-null    object        \n",
      " 3   watched_percentage  194 non-null    int64         \n",
      "dtypes: datetime64[ns](1), int64(1), object(2)\n",
      "memory usage: 6.2+ KB\n"
     ]
    }
   ],
   "source": [
    "df4.info()"
   ]
  },
  {
   "cell_type": "code",
   "execution_count": 105,
   "id": "a0d0bc0e",
   "metadata": {},
   "outputs": [
    {
     "name": "stderr",
     "output_type": "stream",
     "text": [
      "C:\\Users\\daksh\\anaconda3\\lib\\site-packages\\seaborn\\distributions.py:2619: FutureWarning: `distplot` is a deprecated function and will be removed in a future version. Please adapt your code to use either `displot` (a figure-level function with similar flexibility) or `histplot` (an axes-level function for histograms).\n",
      "  warnings.warn(msg, FutureWarning)\n",
      "C:\\Users\\daksh\\anaconda3\\lib\\site-packages\\seaborn\\_decorators.py:36: FutureWarning: Pass the following variable as a keyword arg: x. From version 0.12, the only valid positional argument will be `data`, and passing other arguments without an explicit keyword will result in an error or misinterpretation.\n",
      "  warnings.warn(\n"
     ]
    },
    {
     "data": {
      "image/png": "[encoded data removed]",
      "text/plain": [
       "<Figure size 1152x360 with 2 Axes>"
      ]
     },
     "metadata": {
      "needs_background": "light"
     },
     "output_type": "display_data"
    }
   ],
   "source": [
    "# Deal with outliers\n",
    "plt.figure(figsize=(16,5))\n",
    "plt.subplot(1,2,1)\n",
    "sns.distplot(df4['watched_percentage'])\n",
    "\n",
    "plt.subplot(1,2,2)\n",
    "sns.boxplot(df4['watched_percentage'])\n",
    "\n",
    "plt.show()\n"
   ]
  },
  {
   "cell_type": "code",
   "execution_count": 106,
   "id": "d79b4d56",
   "metadata": {},
   "outputs": [],
   "source": [
    "# Remove outlier\n",
    "# Finding the IQR\n",
    "q1 = df4['watched_percentage'].quantile(0.25)\n",
    "q3 = df4['watched_percentage'].quantile(0.75)"
   ]
  },
  {
   "cell_type": "code",
   "execution_count": 107,
   "id": "8618ab68",
   "metadata": {},
   "outputs": [
    {
     "name": "stdout",
     "output_type": "stream",
     "text": [
      "35.0\n",
      "75.75\n"
     ]
    }
   ],
   "source": [
    "print(q1)\n",
    "print(q3)"
   ]
  },
  {
   "cell_type": "code",
   "execution_count": 108,
   "id": "384a16e4",
   "metadata": {},
   "outputs": [
    {
     "name": "stdout",
     "output_type": "stream",
     "text": [
      "40.75\n"
     ]
    }
   ],
   "source": [
    "iqr = q3 - q1\n",
    "print(iqr)"
   ]
  },
  {
   "cell_type": "code",
   "execution_count": 109,
   "id": "3de16667",
   "metadata": {},
   "outputs": [],
   "source": [
    "upper_limit = q3 + 1.5 * iqr\n",
    "lower_limit = q1 - 1.5 * iqr"
   ]
  },
  {
   "cell_type": "code",
   "execution_count": 110,
   "id": "bda848fa",
   "metadata": {},
   "outputs": [
    {
     "name": "stdout",
     "output_type": "stream",
     "text": [
      "136.875\n",
      "-26.125\n"
     ]
    }
   ],
   "source": [
    "print(upper_limit)\n",
    "print(lower_limit)"
   ]
  },
  {
   "cell_type": "code",
   "execution_count": 111,
   "id": "d85409db",
   "metadata": {},
   "outputs": [
    {
     "data": {
      "text/html": [
       "<div>\n",
       "<style scoped>\n",
       "    .dataframe tbody tr th:only-of-type {\n",
       "        vertical-align: middle;\n",
       "    }\n",
       "\n",
       "    .dataframe tbody tr th {\n",
       "        vertical-align: top;\n",
       "    }\n",
       "\n",
       "    .dataframe thead th {\n",
       "        text-align: right;\n",
       "    }\n",
       "</style>\n",
       "<table border=\"1\" class=\"dataframe\">\n",
       "  <thead>\n",
       "    <tr style=\"text-align: right;\">\n",
       "      <th></th>\n",
       "      <th>lead_id</th>\n",
       "      <th>demo_watched_date</th>\n",
       "      <th>language</th>\n",
       "      <th>watched_percentage</th>\n",
       "    </tr>\n",
       "  </thead>\n",
       "  <tbody>\n",
       "    <tr>\n",
       "      <th>94</th>\n",
       "      <td>USR1138</td>\n",
       "      <td>2022-02-20</td>\n",
       "      <td>English</td>\n",
       "      <td>510</td>\n",
       "    </tr>\n",
       "    <tr>\n",
       "      <th>133</th>\n",
       "      <td>USR1213</td>\n",
       "      <td>2022-01-20</td>\n",
       "      <td>Telugu</td>\n",
       "      <td>233</td>\n",
       "    </tr>\n",
       "  </tbody>\n",
       "</table>\n",
       "</div>"
      ],
      "text/plain": [
       "     lead_id demo_watched_date language  watched_percentage\n",
       "94   USR1138        2022-02-20  English                 510\n",
       "133  USR1213        2022-01-20   Telugu                 233"
      ]
     },
     "execution_count": 111,
     "metadata": {},
     "output_type": "execute_result"
    }
   ],
   "source": [
    "# Finding_outliers\n",
    "df4[df4['watched_percentage'] > upper_limit]"
   ]
  },
  {
   "cell_type": "code",
   "execution_count": 112,
   "id": "010fad90",
   "metadata": {},
   "outputs": [],
   "source": [
    "# trim outliers\n",
    "new_df4 = df4[df4['watched_percentage'] < upper_limit]"
   ]
  },
  {
   "cell_type": "code",
   "execution_count": 113,
   "id": "7e182d4f",
   "metadata": {},
   "outputs": [
    {
     "data": {
      "text/plain": [
       "(192, 4)"
      ]
     },
     "execution_count": 113,
     "metadata": {},
     "output_type": "execute_result"
    }
   ],
   "source": [
    "new_df4.shape"
   ]
  },
  {
   "cell_type": "code",
   "execution_count": null,
   "id": "7c712caf",
   "metadata": {},
   "outputs": [],
   "source": []
  },
  {
   "cell_type": "code",
   "execution_count": null,
   "id": "cc61fb5f",
   "metadata": {},
   "outputs": [],
   "source": []
  },
  {
   "cell_type": "markdown",
   "id": "f2c84dd2",
   "metadata": {},
   "source": [
    "## leads_reasons_for_no_interest"
   ]
  },
  {
   "cell_type": "code",
   "execution_count": 115,
   "id": "0561d9c4",
   "metadata": {},
   "outputs": [
    {
     "data": {
      "text/html": [
       "<div>\n",
       "<style scoped>\n",
       "    .dataframe tbody tr th:only-of-type {\n",
       "        vertical-align: middle;\n",
       "    }\n",
       "\n",
       "    .dataframe tbody tr th {\n",
       "        vertical-align: top;\n",
       "    }\n",
       "\n",
       "    .dataframe thead th {\n",
       "        text-align: right;\n",
       "    }\n",
       "</style>\n",
       "<table border=\"1\" class=\"dataframe\">\n",
       "  <thead>\n",
       "    <tr style=\"text-align: right;\">\n",
       "      <th></th>\n",
       "      <th>lead_id</th>\n",
       "      <th>reasons_for_not_interested_in_demo</th>\n",
       "      <th>reasons_for_not_interested_to_consider</th>\n",
       "      <th>reasons_for_not_interested_to_convert</th>\n",
       "    </tr>\n",
       "  </thead>\n",
       "  <tbody>\n",
       "    <tr>\n",
       "      <th>163</th>\n",
       "      <td>USR1206</td>\n",
       "      <td>Student not interested in domain</td>\n",
       "      <td>NaN</td>\n",
       "      <td>NaN</td>\n",
       "    </tr>\n",
       "    <tr>\n",
       "      <th>271</th>\n",
       "      <td>USR1338</td>\n",
       "      <td>Wants offline classes</td>\n",
       "      <td>NaN</td>\n",
       "      <td>NaN</td>\n",
       "    </tr>\n",
       "    <tr>\n",
       "      <th>259</th>\n",
       "      <td>USR1326</td>\n",
       "      <td>Wants offline classes</td>\n",
       "      <td>NaN</td>\n",
       "      <td>NaN</td>\n",
       "    </tr>\n",
       "    <tr>\n",
       "      <th>46</th>\n",
       "      <td>USR1068</td>\n",
       "      <td>No time for student</td>\n",
       "      <td>NaN</td>\n",
       "      <td>NaN</td>\n",
       "    </tr>\n",
       "    <tr>\n",
       "      <th>3</th>\n",
       "      <td>USR1005</td>\n",
       "      <td>NaN</td>\n",
       "      <td>Can't afford</td>\n",
       "      <td>NaN</td>\n",
       "    </tr>\n",
       "    <tr>\n",
       "      <th>133</th>\n",
       "      <td>USR1170</td>\n",
       "      <td>NaN</td>\n",
       "      <td>Student not interested in domain</td>\n",
       "      <td>NaN</td>\n",
       "    </tr>\n",
       "    <tr>\n",
       "      <th>40</th>\n",
       "      <td>USR1060</td>\n",
       "      <td>No time for student</td>\n",
       "      <td>NaN</td>\n",
       "      <td>NaN</td>\n",
       "    </tr>\n",
       "    <tr>\n",
       "      <th>47</th>\n",
       "      <td>USR1069</td>\n",
       "      <td>Can't afford</td>\n",
       "      <td>NaN</td>\n",
       "      <td>NaN</td>\n",
       "    </tr>\n",
       "    <tr>\n",
       "      <th>178</th>\n",
       "      <td>USR1225</td>\n",
       "      <td>NaN</td>\n",
       "      <td>NaN</td>\n",
       "      <td>Can't afford</td>\n",
       "    </tr>\n",
       "    <tr>\n",
       "      <th>162</th>\n",
       "      <td>USR1205</td>\n",
       "      <td>Can't afford</td>\n",
       "      <td>NaN</td>\n",
       "      <td>NaN</td>\n",
       "    </tr>\n",
       "  </tbody>\n",
       "</table>\n",
       "</div>"
      ],
      "text/plain": [
       "     lead_id reasons_for_not_interested_in_demo  \\\n",
       "163  USR1206   Student not interested in domain   \n",
       "271  USR1338              Wants offline classes   \n",
       "259  USR1326              Wants offline classes   \n",
       "46   USR1068                No time for student   \n",
       "3    USR1005                                NaN   \n",
       "133  USR1170                                NaN   \n",
       "40   USR1060                No time for student   \n",
       "47   USR1069                       Can't afford   \n",
       "178  USR1225                                NaN   \n",
       "162  USR1205                       Can't afford   \n",
       "\n",
       "    reasons_for_not_interested_to_consider  \\\n",
       "163                                    NaN   \n",
       "271                                    NaN   \n",
       "259                                    NaN   \n",
       "46                                     NaN   \n",
       "3                             Can't afford   \n",
       "133       Student not interested in domain   \n",
       "40                                     NaN   \n",
       "47                                     NaN   \n",
       "178                                    NaN   \n",
       "162                                    NaN   \n",
       "\n",
       "    reasons_for_not_interested_to_convert  \n",
       "163                                   NaN  \n",
       "271                                   NaN  \n",
       "259                                   NaN  \n",
       "46                                    NaN  \n",
       "3                                     NaN  \n",
       "133                                   NaN  \n",
       "40                                    NaN  \n",
       "47                                    NaN  \n",
       "178                          Can't afford  \n",
       "162                                   NaN  "
      ]
     },
     "execution_count": 115,
     "metadata": {},
     "output_type": "execute_result"
    }
   ],
   "source": [
    "df5.sample(10)"
   ]
  },
  {
   "cell_type": "code",
   "execution_count": 118,
   "id": "896b64a0",
   "metadata": {},
   "outputs": [
    {
     "data": {
      "text/plain": [
       "(294, 4)"
      ]
     },
     "execution_count": 118,
     "metadata": {},
     "output_type": "execute_result"
    }
   ],
   "source": [
    "df5.shape"
   ]
  },
  {
   "cell_type": "code",
   "execution_count": 116,
   "id": "5da6c6ef",
   "metadata": {
    "scrolled": false
   },
   "outputs": [
    {
     "name": "stdout",
     "output_type": "stream",
     "text": [
      "<class 'pandas.core.frame.DataFrame'>\n",
      "RangeIndex: 294 entries, 0 to 293\n",
      "Data columns (total 4 columns):\n",
      " #   Column                                  Non-Null Count  Dtype \n",
      "---  ------                                  --------------  ----- \n",
      " 0   lead_id                                 294 non-null    object\n",
      " 1   reasons_for_not_interested_in_demo      164 non-null    object\n",
      " 2   reasons_for_not_interested_to_consider  79 non-null     object\n",
      " 3   reasons_for_not_interested_to_convert   51 non-null     object\n",
      "dtypes: object(4)\n",
      "memory usage: 9.3+ KB\n"
     ]
    }
   ],
   "source": [
    "df5.info()"
   ]
  },
  {
   "cell_type": "code",
   "execution_count": 126,
   "id": "12926ff0",
   "metadata": {},
   "outputs": [
    {
     "data": {
      "text/html": [
       "<div>\n",
       "<style scoped>\n",
       "    .dataframe tbody tr th:only-of-type {\n",
       "        vertical-align: middle;\n",
       "    }\n",
       "\n",
       "    .dataframe tbody tr th {\n",
       "        vertical-align: top;\n",
       "    }\n",
       "\n",
       "    .dataframe thead th {\n",
       "        text-align: right;\n",
       "    }\n",
       "</style>\n",
       "<table border=\"1\" class=\"dataframe\">\n",
       "  <thead>\n",
       "    <tr style=\"text-align: right;\">\n",
       "      <th></th>\n",
       "      <th>lead_id</th>\n",
       "      <th>reasons_for_not_interested_in_demo</th>\n",
       "      <th>reasons_for_not_interested_to_consider</th>\n",
       "      <th>reasons_for_not_interested_to_convert</th>\n",
       "    </tr>\n",
       "  </thead>\n",
       "  <tbody>\n",
       "    <tr>\n",
       "      <th>count</th>\n",
       "      <td>294</td>\n",
       "      <td>164</td>\n",
       "      <td>79</td>\n",
       "      <td>51</td>\n",
       "    </tr>\n",
       "    <tr>\n",
       "      <th>unique</th>\n",
       "      <td>294</td>\n",
       "      <td>6</td>\n",
       "      <td>5</td>\n",
       "      <td>5</td>\n",
       "    </tr>\n",
       "    <tr>\n",
       "      <th>top</th>\n",
       "      <td>USR1001</td>\n",
       "      <td>Wants offline classes</td>\n",
       "      <td>Can't afford</td>\n",
       "      <td>Can't afford</td>\n",
       "    </tr>\n",
       "    <tr>\n",
       "      <th>freq</th>\n",
       "      <td>1</td>\n",
       "      <td>56</td>\n",
       "      <td>32</td>\n",
       "      <td>19</td>\n",
       "    </tr>\n",
       "  </tbody>\n",
       "</table>\n",
       "</div>"
      ],
      "text/plain": [
       "        lead_id reasons_for_not_interested_in_demo  \\\n",
       "count       294                                164   \n",
       "unique      294                                  6   \n",
       "top     USR1001              Wants offline classes   \n",
       "freq          1                                 56   \n",
       "\n",
       "       reasons_for_not_interested_to_consider  \\\n",
       "count                                      79   \n",
       "unique                                      5   \n",
       "top                              Can't afford   \n",
       "freq                                       32   \n",
       "\n",
       "       reasons_for_not_interested_to_convert  \n",
       "count                                     51  \n",
       "unique                                     5  \n",
       "top                             Can't afford  \n",
       "freq                                      19  "
      ]
     },
     "execution_count": 126,
     "metadata": {},
     "output_type": "execute_result"
    }
   ],
   "source": [
    "df5.describe()"
   ]
  },
  {
   "cell_type": "code",
   "execution_count": 127,
   "id": "a0569a56",
   "metadata": {
    "scrolled": true
   },
   "outputs": [
    {
     "data": {
      "text/plain": [
       "lead_id                                     0\n",
       "reasons_for_not_interested_in_demo        130\n",
       "reasons_for_not_interested_to_consider    215\n",
       "reasons_for_not_interested_to_convert     243\n",
       "dtype: int64"
      ]
     },
     "execution_count": 127,
     "metadata": {},
     "output_type": "execute_result"
    }
   ],
   "source": [
    "df5.isnull().sum()"
   ]
  },
  {
   "cell_type": "code",
   "execution_count": null,
   "id": "9c3179c8",
   "metadata": {},
   "outputs": [],
   "source": []
  },
  {
   "cell_type": "code",
   "execution_count": null,
   "id": "1b285cee",
   "metadata": {},
   "outputs": [],
   "source": []
  },
  {
   "cell_type": "markdown",
   "id": "3658d36b",
   "metadata": {},
   "source": [
    "## Remove Outlier data from all tables. \n",
    "### based on unique lead_id\n"
   ]
  },
  {
   "cell_type": "code",
   "execution_count": 136,
   "id": "ecd4082f",
   "metadata": {},
   "outputs": [
    {
     "data": {
      "text/plain": [
       "Int64Index([17, 137, 212, 300], dtype='int64')"
      ]
     },
     "execution_count": 136,
     "metadata": {},
     "output_type": "execute_result"
    }
   ],
   "source": [
    "# From 2nd table\n",
    "indexAge = df2[ (df2['lead_id'] == 'USR1018') | (df2['lead_id'] == 'USR1301') | (df2['lead_id'] == 'USR1138') | (df2['lead_id'] == 'USR1213')].index\n",
    "df2_new = df2.drop(indexAge)\n",
    "indexAge"
   ]
  },
  {
   "cell_type": "code",
   "execution_count": 137,
   "id": "3ef3f52c",
   "metadata": {},
   "outputs": [
    {
     "data": {
      "text/plain": [
       "(356, 5)"
      ]
     },
     "execution_count": 137,
     "metadata": {},
     "output_type": "execute_result"
    }
   ],
   "source": [
    "df2_new.shape"
   ]
  },
  {
   "cell_type": "code",
   "execution_count": 138,
   "id": "6e2dc81f",
   "metadata": {},
   "outputs": [
    {
     "data": {
      "text/plain": [
       "Int64Index([  93,   94,   95,   96,   97,  869,  870,  871,  872,  873,  874,\n",
       "             875, 1376, 1377, 1378, 1379, 1380, 1381, 1382, 1383, 1384, 1385,\n",
       "            1386, 1966, 1967, 1968, 1969, 1970, 1971],\n",
       "           dtype='int64')"
      ]
     },
     "execution_count": 138,
     "metadata": {},
     "output_type": "execute_result"
    }
   ],
   "source": [
    "# From 3rd table\n",
    "indexAge = df3[ (df3['lead_id'] == 'USR1018') | (df3['lead_id'] == 'USR1301') | (df3['lead_id'] == 'USR1138') | (df3['lead_id'] == 'USR1213')].index\n",
    "df3_new = df3.drop(indexAge)\n",
    "indexAge"
   ]
  },
  {
   "cell_type": "code",
   "execution_count": 139,
   "id": "3a39bbe2",
   "metadata": {},
   "outputs": [
    {
     "data": {
      "text/plain": [
       "(2163, 6)"
      ]
     },
     "execution_count": 139,
     "metadata": {},
     "output_type": "execute_result"
    }
   ],
   "source": [
    "df3_new.shape"
   ]
  },
  {
   "cell_type": "code",
   "execution_count": 140,
   "id": "4253da4c",
   "metadata": {},
   "outputs": [
    {
     "data": {
      "text/plain": [
       "Int64Index([11, 105, 242], dtype='int64')"
      ]
     },
     "execution_count": 140,
     "metadata": {},
     "output_type": "execute_result"
    }
   ],
   "source": [
    "# From 5th table\n",
    "indexAge = df5[ (df5['lead_id'] == 'USR1018') | (df5['lead_id'] == 'USR1301') | (df5['lead_id'] == 'USR1138') | (df5['lead_id'] == 'USR1213')].index\n",
    "df5_new = df5.drop(indexAge)\n",
    "indexAge"
   ]
  },
  {
   "cell_type": "code",
   "execution_count": 141,
   "id": "efe369fb",
   "metadata": {},
   "outputs": [
    {
     "data": {
      "text/plain": [
       "(291, 4)"
      ]
     },
     "execution_count": 141,
     "metadata": {},
     "output_type": "execute_result"
    }
   ],
   "source": [
    "df5_new.shape"
   ]
  },
  {
   "cell_type": "code",
   "execution_count": 142,
   "id": "ac4fa270",
   "metadata": {},
   "outputs": [
    {
     "data": {
      "text/plain": [
       "Int64Index([17, 137, 212, 300], dtype='int64')"
      ]
     },
     "execution_count": 142,
     "metadata": {},
     "output_type": "execute_result"
    }
   ],
   "source": [
    "# From 1st table\n",
    "indexAge = df1[ (df1['lead_id'] == 'USR1018') | (df1['lead_id'] == 'USR1301') | (df1['lead_id'] == 'USR1138') | (df1['lead_id'] == 'USR1213')].index\n",
    "df1_new = df1.drop(indexAge)\n",
    "indexAge"
   ]
  },
  {
   "cell_type": "code",
   "execution_count": 143,
   "id": "9b861eb6",
   "metadata": {},
   "outputs": [
    {
     "data": {
      "text/plain": [
       "(356, 7)"
      ]
     },
     "execution_count": 143,
     "metadata": {},
     "output_type": "execute_result"
    }
   ],
   "source": [
    "df1_new.shape"
   ]
  },
  {
   "cell_type": "code",
   "execution_count": 144,
   "id": "775365ca",
   "metadata": {},
   "outputs": [
    {
     "data": {
      "text/plain": [
       "Int64Index([16, 94, 133], dtype='int64')"
      ]
     },
     "execution_count": 144,
     "metadata": {},
     "output_type": "execute_result"
    }
   ],
   "source": [
    "# From 4th table\n",
    "indexAge = df4[ (df4['lead_id'] == 'USR1018') | (df4['lead_id'] == 'USR1301') | (df4['lead_id'] == 'USR1138') | (df4['lead_id'] == 'USR1213')].index\n",
    "df4_new = df4.drop(indexAge)\n",
    "indexAge"
   ]
  },
  {
   "cell_type": "code",
   "execution_count": 145,
   "id": "686802b9",
   "metadata": {},
   "outputs": [
    {
     "data": {
      "text/plain": [
       "(191, 4)"
      ]
     },
     "execution_count": 145,
     "metadata": {},
     "output_type": "execute_result"
    }
   ],
   "source": [
    "df4_new.shape"
   ]
  },
  {
   "cell_type": "markdown",
   "id": "d7c6d38a",
   "metadata": {},
   "source": [
    "## Convert cleaned dataframe into csv file for further analysis"
   ]
  },
  {
   "cell_type": "code",
   "execution_count": 146,
   "id": "d3c4deea",
   "metadata": {},
   "outputs": [],
   "source": [
    "df1_new.to_csv('leads_basic_details1.csv')\n",
    "df2_new.to_csv('sales_managers_assigned_leads_details1.csv')\n",
    "df3_new.to_csv('leads_interaction_details1.csv')\n",
    "df4_new.to_csv('leads_demo_watched_details1.csv')\n",
    "df5_new.to_csv('leads_reasons_for_no_interest1.csv')"
   ]
  },
  {
   "cell_type": "code",
   "execution_count": null,
   "id": "ced02d1e",
   "metadata": {},
   "outputs": [],
   "source": []
  }
 ],
 "metadata": {
  "kernelspec": {
   "display_name": "Python 3 (ipykernel)",
   "language": "python",
   "name": "python3"
  },
  "language_info": {
   "codemirror_mode": {
    "name": "ipython",
    "version": 3
   },
   "file_extension": ".py",
   "mimetype": "text/x-python",
   "name": "python",
   "nbconvert_exporter": "python",
   "pygments_lexer": "ipython3",
   "version": "3.9.12"
  }
 },
 "nbformat": 4,
 "nbformat_minor": 5
}
